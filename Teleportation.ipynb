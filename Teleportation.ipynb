{
 "cells": [
  {
   "cell_type": "code",
   "execution_count": 1,
   "metadata": {},
   "outputs": [
    {
     "data": {
      "text/html": [
       "<pre style=\"white-space:pre;overflow-x:auto;line-height:normal;font-family:Menlo,'DejaVu Sans Mono',consolas,'Courier New',monospace\">Manim Community <span style=\"color: #008000; text-decoration-color: #008000\">v0.13.1</span>\n",
       "\n",
       "</pre>\n"
      ],
      "text/plain": [
       "Manim Community \u001b[32mv0.\u001b[0m\u001b[32m13.1\u001b[0m\n",
       "\n"
      ]
     },
     "metadata": {},
     "output_type": "display_data"
    }
   ],
   "source": [
    "%matplotlib inline\n",
    "import numpy as np\n",
    "\n",
    "import jupyter_manim\n",
    "from manim import *"
   ]
  },
  {
   "cell_type": "code",
   "execution_count": 4,
   "metadata": {},
   "outputs": [
    {
     "name": "stderr",
     "output_type": "stream",
     "text": [
      "                                                                                                                                   \r"
     ]
    },
    {
     "data": {
      "text/html": [
       "<video src=\"media\\jupyter\\Teleportation@2022-01-12@10-53-33.mp4\" controls autoplay loop style=\"max-width: 60%;\"  >\n",
       "      Your browser does not support the <code>video</code> element.\n",
       "    </video>"
      ],
      "text/plain": [
       "<IPython.core.display.Video object>"
      ]
     },
     "metadata": {},
     "output_type": "display_data"
    }
   ],
   "source": [
    "%%manim -qm -v WARNING Teleportation\n",
    "\n",
    "class Teleportation(Scene):\n",
    "    config= {\n",
    "        \"x_lim\":int,    # define leftmost limit of x for circuit and gates\n",
    "        \"y_lim\":int     # define up-most limit of y for circuit and gates\n",
    "    }\n",
    "    def __init__(self, **kwargs):\n",
    "        super(Teleportation, self).__init__()       #inheritance from class Scene\n",
    "        self.x_lim=-5.5\n",
    "        self.y_lim=2\n",
    "    def construct(self):\n",
    "        # List to hold all circuit line elements and VGroup  to include all the Mobjects of circuitline\n",
    "        circuitline=[[None for i in range(5)] for i in range(5)]\n",
    "        circuit=VGroup() # Vgroup \n",
    "        # Algorithm name\n",
    "        algorithm=\"Teleportation Algorithm\"\n",
    "        title = Title(algorithm,include_underline=False).set_y(3.1)     #title of the ALgorithm\n",
    "        self.add_foreground_mobject(title)\n",
    "\n",
    "        #section zero: create all registers: quantum and classical\n",
    "        regs=[MathTex(r\"q_0\"),MathTex(r\"q_1\"), MathTex(r\"q_2\"),MathTex(r\"c_{rz}\"), MathTex(r\"c_{rxz}\")] # list of registers name\n",
    "        registers=VGroup()\n",
    "        \n",
    "        for i,reg in enumerate(regs):       #add registers to the scene\n",
    "            reg.set_x(self.x_lim).set_y(2-i)\n",
    "            circuitline[0][i]=Line([self.x_lim-0.5,2-i,0], [self.x_lim-0.6,2-i,0])\n",
    "            registers.add(reg)\n",
    "            circuit.add(circuitline[0][i])\n",
    "        self.add(registers)\n",
    "        dots=[None for i in range(5)]       # Dots \n",
    "        for i in range(3):\n",
    "            dots[i]=Dot()\n",
    "\n",
    "        \n",
    "        def create_gate(gate:str,x:int,y:int,control=None,scale=1,textcolor=WHITE,boxcolor=BLUE):\n",
    "            if control:\n",
    "                dot=Dot().set_x(x).set_y(control)\n",
    "                control_line= Line([x,control,0], [x,y,0])\n",
    "                gate_ = MathTex(gate,color=textcolor).scale(scale+0.5).set_x(x).set_y(y)\n",
    "                gate_.bg = BackgroundRectangle(gate_,stroke_width=1,color=boxcolor, fill_opacity=1).scale(scale+1)\n",
    "                return VGroup(control_line,gate_.bg,gate_,dot)\n",
    "            else:\n",
    "                gate_ = MathTex(gate,color=textcolor).scale(scale+0.5).set_x(x).set_y(y)\n",
    "                gate_.bg = BackgroundRectangle(gate_,stroke_width=1,color=boxcolor, fill_opacity=1).scale(scale+1)\n",
    "                return VGroup(gate_.bg,gate_)\n",
    "        \n",
    "        def draw_circuitline(regs,sect:int,xrange:list,ydiff: float,barrier=True,circuitline=circuitline,circuit=circuit):\n",
    "            for i in range(5):\n",
    "                circuitline[sect][i]=Line([xrange[0],ydiff-i,-0.5], [xrange[1],ydiff-i,-0.5])\n",
    "                circuit.add(circuitline[sect][i])\n",
    "                self.add(circuitline[sect][i])\n",
    "            if barrier:\n",
    "                barrierline=DashedLine([xrange[1],2.2,0], [xrange[1],-0.25,0],dashed_ratio=0.75).set_opacity(0.5)\n",
    "                self.add(barrierline)\n",
    "                # self.add(VGroup(circuit,barrierline))\n",
    "                # return VGroup(circuit,barrier)\n",
    "        def move_dot(sect: int,dots=dots,circuitline=circuitline,circuit=circuit):\n",
    "            animation=[]\n",
    "            for j in range(3):\n",
    "                animation.append(MoveAlongPath(dots[j], circuitline[sect][j]))\n",
    "            # self.play(*animation)\n",
    "            return animation\n",
    "    \n",
    "\n",
    "        # #section I: Create a maximally entangled state\n",
    "        sect_range1=[self.x_lim+0.6,self.x_lim+3]\n",
    "        draw_circuitline(regs,sect=1,xrange=sect_range1,ydiff=2)\n",
    "        H_gate1=create_gate(\"H\",self.x_lim+1.25 ,1,scale=0.5)\n",
    "        C_not1= create_gate(\"X\",self.x_lim+2.25 ,0,control=1,scale=0.5)\n",
    "\n",
    "        texTemplate = TexTemplate()\n",
    "        texTemplate.add_to_preamble(r\"\\usepackage{braket}\")\n",
    "\n",
    "        state_1a=MathTex(r\"\\ket{q_1 q_2}=\\ket{0}\",tex_template=texTemplate, font_size=20).set_x(sect_range1[0]).set_y(1.5)\n",
    "        state_1b=MathTex(r\"\\ket{q_1 q_2}=\\frac{1}{\\sqrt{2}} (\\ket{00} + \\ket{11})\",\n",
    "                            tex_template=texTemplate, font_size=20).set_x(sect_range1[1]).set_y(1.5)\n",
    "        state_psi=MathTex(r\"\\ket{q_0}=\\alpha \\ket{0} +\\beta \\ket{1}\",\n",
    "                            tex_template=texTemplate, font_size=20).set_x(sect_range1[0]).set_y(2.5)\n",
    "        \n",
    "        \n",
    "        self.play(Create(H_gate1),Create(C_not1),Create(state_psi),Create(state_1a))\n",
    "        self.play(state_psi.animate.move_to([sect_range1[1],2.5,0]),\n",
    "                    FadeTransform(state_1a,state_1b),\n",
    "                    *move_dot(sect=1),\n",
    "                    runtime=3)\n",
    "\n",
    "        # # Section :II create entanglement between 1st and 2nd qubit\n",
    "        sect_range2=[self.x_lim+3,self.x_lim+5.5]\n",
    "        draw_circuitline(regs,sect=2,xrange=sect_range2,ydiff=2)\n",
    "        \n",
    "        C_not2= create_gate(\"X\",self.x_lim+3.75 ,1,control=2,scale=0.5)\n",
    "        H_gate2=create_gate(\"H\",self.x_lim+4.75 ,2,scale=0.5)\n",
    "\n",
    "        # state_1=MathTex(r\"\\frac{1}{\\sqrt{2}} (\\ket{00} + \\ket{11})\",\n",
    "        #                     tex_template=texTemplate, font_size=25).set_x(sect_range2[0]).set_y(1.5)\n",
    "        state_2= MathTex(r\"\\ket{q_0 q_1 q_2} =\\frac{1}{\\sqrt{2}}(\\ket{000} + \\ket{011}+\\ket{100} +\\ket{111})\",\n",
    "                            tex_template=texTemplate, font_size=20).set_x(sect_range2[1]).set_y(2.5)\n",
    "        \n",
    "        self.play(Create(C_not2),Create(H_gate2),FadeOut(state_psi))\n",
    "        self.play(FadeTransform(state_1b,state_2),\n",
    "                    *move_dot(sect=2),\n",
    "                    runtime=3)\n",
    "        \n",
    "\n",
    "        # # Section III: Add measurement Gates\n",
    "        sect_range3=[self.x_lim+5.5,self.x_lim+8]\n",
    "        draw_circuitline(regs,sect=3,xrange=sect_range3,ydiff=2)\n",
    "\n",
    "        measure_0=create_gate(r\"\\not \\frown\",self.x_lim+6.25,y=-1,control=2,scale=0.5)\n",
    "        measure_1=create_gate(r\"\\not \\frown\",self.x_lim+7.25,y=-2,control=1,scale=0.5)\n",
    "        state_3= MathTex(r\"\\ket{q_0 q_1 q_2}= \\frac{1}{2}( \\ket{00}(\\alpha \\ket{0} + \\beta \\ket{1})\\\\ + \\ket{01}( \\alpha \\ket{1} + \\beta \\ket{0})\\\\ +\\ket{10} (\\alpha \\ket{0} - \\beta \\ket{1})\\\\ +\\ket{11}(\\alpha \\ket{1} - \\beta \\ket{0}))\",\n",
    "                            tex_template=texTemplate, font_size=20).set_x(sect_range3[1]).set_y(1)\n",
    "\n",
    "        self.play(Create(measure_0),Create(measure_1),FadeOut(state_2))\n",
    "        self.play(FadeTransform(state_2,state_3),\n",
    "                    dots[0].animate.move_to([self.x_lim+6.25,2,0]),\n",
    "                    dots[1].animate.move_to([self.x_lim+7.25,1,0]),\n",
    "                    FadeOut(dots[3]),\n",
    "                    runtime=3)\n",
    "        self.wait(2) \n",
    "        \n",
    "        # Section IV: Add classical controlled gate\n",
    "        sect_range4=[self.x_lim+8,self.x_lim+11]\n",
    "        draw_circuitline(regs,sect=4,xrange=sect_range4,ydiff=2,barrier=False)\n",
    "        classicX=create_gate(r\"X\",self.x_lim+8.75,y=0,control=-2,scale=0.5)\n",
    "        classicZ=create_gate(r\"Z\",self.x_lim+9.75,y=0,control=-1,scale=0.5)\n",
    "\n",
    "        state_4= MathTex(r\"\\ket{q_2}= \\alpha \\ket{0} +\\beta \\ket{1}\",\n",
    "                            tex_template=texTemplate, font_size=20).set_x(sect_range4[1]).set_y(0.4)\n",
    "\n",
    "        self.play(Create(classicX),Create(classicZ),FadeOut(state_3),FadeTransform(state_3,state_4))  \n",
    "        self.wait(3)     \n",
    "        \n",
    "\n"
   ]
  },
  {
   "cell_type": "code",
   "execution_count": 1,
   "metadata": {},
   "outputs": [
    {
     "data": {
      "text/html": [
       "<pre style=\"white-space:pre;overflow-x:auto;line-height:normal;font-family:Menlo,'DejaVu Sans Mono',consolas,'Courier New',monospace\">Manim Community <span style=\"color: #008000; text-decoration-color: #008000\">v0.13.1</span>\n",
       "\n",
       "</pre>\n"
      ],
      "text/plain": [
       "Manim Community \u001b[32mv0.\u001b[0m\u001b[32m13.1\u001b[0m\n",
       "\n"
      ]
     },
     "metadata": {},
     "output_type": "display_data"
    },
    {
     "data": {
      "text/plain": [
       "'0.13.1'"
      ]
     },
     "execution_count": 1,
     "metadata": {},
     "output_type": "execute_result"
    }
   ],
   "source": [
    "import manim as manim\n",
    "manim.__version__"
   ]
  },
  {
   "cell_type": "code",
   "execution_count": null,
   "metadata": {},
   "outputs": [],
   "source": [
    "\n"
   ]
  },
  {
   "cell_type": "code",
   "execution_count": null,
   "metadata": {},
   "outputs": [],
   "source": []
  }
 ],
 "metadata": {
  "interpreter": {
   "hash": "a707b6ce8c685eb936424fcc3009d4b4b7a52543c4db09380a3fc49186ceb509"
  },
  "kernelspec": {
   "display_name": "Python 3.9.7 64-bit ('base': conda)",
   "language": "python",
   "name": "python3"
  },
  "language_info": {
   "codemirror_mode": {
    "name": "ipython",
    "version": 3
   },
   "file_extension": ".py",
   "mimetype": "text/x-python",
   "name": "python",
   "nbconvert_exporter": "python",
   "pygments_lexer": "ipython3",
   "version": "3.9.7"
  },
  "orig_nbformat": 4
 },
 "nbformat": 4,
 "nbformat_minor": 2
}
