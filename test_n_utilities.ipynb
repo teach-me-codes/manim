{
 "cells": [
  {
   "cell_type": "code",
   "execution_count": 3,
   "metadata": {},
   "outputs": [
    {
     "data": {
      "text/plain": [
       "'./videos/Grover_3qbit.mp4'"
      ]
     },
     "execution_count": 3,
     "metadata": {},
     "output_type": "execute_result"
    }
   ],
   "source": [
    "# Copy all the videos from the path where videos are downloaded to folder on repo-path\n",
    "import shutil\n",
    "# shutil.copytree(r\"./media/videos/qc_on_manim/720p30\",r\"./videos\",\n",
    "#                 ignore=shutil.ignore_patterns( \"partial_movie_files\"),\n",
    "#                 dirs_exist_ok=True)\n",
    "\n",
    "#copy single file only\n",
    "shutil.copy(r\"./media/videos/qc_on_manim/720p30/Grover_3qbit.mp4\",r\"./videos/Grover_3qbit.mp4\")"
   ]
  },
  {
   "cell_type": "code",
   "execution_count": 4,
   "metadata": {},
   "outputs": [
    {
     "name": "stdout",
     "output_type": "stream",
     "text": [
      "MoviePy - Building file ./gif/Grover_3qbit.gif with imageio.\n"
     ]
    },
    {
     "name": "stderr",
     "output_type": "stream",
     "text": [
      "                                                            \r"
     ]
    }
   ],
   "source": [
    "# Convert all videos to gif and store them into a folder\"gif\"\n",
    "import os\n",
    "import glob\n",
    "from moviepy.editor import *\n",
    "\n",
    "# for f in glob.glob(r\"./videos/*\"):\n",
    "#     clip = VideoFileClip(f)\n",
    "#     clip.write_gif(\"./gif/\"+str(os.path.split(f)[-1]).split(\".\")[0]+\".gif\")\n",
    "    \n",
    "\n",
    "# converting single mp4 file into gif\n",
    "clip=VideoFileClip(\"./videos/Grover_3qbit.mp4\")\n",
    "clip.write_gif(\"./gif/Grover_3qbit.gif\",fps=15)\n"
   ]
  },
  {
   "cell_type": "code",
   "execution_count": 12,
   "metadata": {},
   "outputs": [
    {
     "name": "stdout",
     "output_type": "stream",
     "text": [
      "MoviePy - Building file ./gif\\\\BlochSphere.gif with imageio.\n"
     ]
    },
    {
     "name": "stderr",
     "output_type": "stream",
     "text": [
      "                                                              \r"
     ]
    }
   ],
   "source": []
  },
  {
   "cell_type": "code",
   "execution_count": null,
   "metadata": {},
   "outputs": [],
   "source": [
    "def __init__(self, **kwargs):\n",
    "        super(Teleportation, self).__init__()\n",
    "        self.x_lim=-5.5\n",
    "        self.y_lim=1.5"
   ]
  },
  {
   "cell_type": "code",
   "execution_count": 4,
   "metadata": {},
   "outputs": [
    {
     "data": {
      "text/html": [
       "<pre style=\"white-space:pre;overflow-x:auto;line-height:normal;font-family:Menlo,'DejaVu Sans Mono',consolas,'Courier New',monospace\">Manim Community <span style=\"color: #008000; text-decoration-color: #008000\">v0.13.1</span>\n",
       "\n",
       "</pre>\n"
      ],
      "text/plain": [
       "Manim Community \u001b[32mv0.\u001b[0m\u001b[32m13.1\u001b[0m\n",
       "\n"
      ]
     },
     "metadata": {},
     "output_type": "display_data"
    }
   ],
   "source": [
    "%matplotlib inline\n",
    "import numpy as np\n",
    "\n",
    "import jupyter_manim\n",
    "from manim import *"
   ]
  },
  {
   "cell_type": "code",
   "execution_count": null,
   "metadata": {},
   "outputs": [],
   "source": []
  },
  {
   "cell_type": "code",
   "execution_count": null,
   "metadata": {},
   "outputs": [],
   "source": []
  }
 ],
 "metadata": {
  "interpreter": {
   "hash": "a5e9bb5c8109d9c89e3540dfae7ab7a0527331017fc9eeaf677245afa113f1a5"
  },
  "kernelspec": {
   "display_name": "Python 3 (ipykernel)",
   "language": "python",
   "name": "python3"
  },
  "language_info": {
   "codemirror_mode": {
    "name": "ipython",
    "version": 3
   },
   "file_extension": ".py",
   "mimetype": "text/x-python",
   "name": "python",
   "nbconvert_exporter": "python",
   "pygments_lexer": "ipython3",
   "version": "3.9.7"
  }
 },
 "nbformat": 4,
 "nbformat_minor": 2
}
