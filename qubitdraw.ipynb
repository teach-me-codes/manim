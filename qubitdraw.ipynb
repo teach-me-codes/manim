{
 "cells": [
  {
   "cell_type": "code",
   "execution_count": 2,
   "metadata": {},
   "outputs": [
    {
     "data": {
      "text/html": [
       "<pre style=\"white-space:pre;overflow-x:auto;line-height:normal;font-family:Menlo,'DejaVu Sans Mono',consolas,'Courier New',monospace\">Manim Community <span style=\"color: #008000; text-decoration-color: #008000\">v0.13.1</span>\n",
       "\n",
       "</pre>\n"
      ],
      "text/plain": [
       "Manim Community \u001b[32mv0.\u001b[0m\u001b[32m13.1\u001b[0m\n",
       "\n"
      ]
     },
     "metadata": {},
     "output_type": "display_data"
    }
   ],
   "source": [
    "%matplotlib inline\n",
    "import numpy as np\n",
    "\n",
    "import jupyter_manim\n",
    "from manim import *"
   ]
  },
  {
   "cell_type": "code",
   "execution_count": 8,
   "metadata": {},
   "outputs": [
    {
     "name": "stderr",
     "output_type": "stream",
     "text": [
      "                                                          \r"
     ]
    },
    {
     "data": {
      "text/html": [
       "<video src=\"media\\jupyter\\BlochSphere@2022-01-07@15-21-39.mp4\" controls autoplay loop style=\"max-width: 60%;\"  >\n",
       "      Your browser does not support the <code>video</code> element.\n",
       "    </video>"
      ],
      "text/plain": [
       "<IPython.core.display.Video object>"
      ]
     },
     "metadata": {},
     "output_type": "display_data"
    }
   ],
   "source": [
    "%%manim -qm -v WARNING BlochSphere\n",
    "\n",
    "class BlochSphere(ThreeDScene):\n",
    "    def construct(self):\n",
    "        # Bloch Sphere init\n",
    "        axes = ThreeDAxes()\n",
    "        sphere=Sphere(center=(0, 0, 0),\n",
    "                    radius=1,\n",
    "                    resolution=(20, 20),\n",
    "                    u_range=[-PI / 2, PI / 2],\n",
    "                    v_range=[0, TAU],\n",
    "                    fill_opacity=0.6\n",
    "                )\n",
    "        arrow = Arrow3D(start=np.array([0, 0, 0]), end=np.array([1, 0, 0]))\n",
    "\n",
    "        # # # Bloch Sphere\n",
    "        self.set_camera_orientation(phi= 75 * DEGREES, theta=30 * DEGREES)\n",
    "        self.add(axes)\n",
    "        self.add(sphere)\n",
    "        self.add(arrow)\n",
    "\n",
    "        self.begin_ambient_camera_rotation(rate=0.5)\n",
    "        self.wait(3)\n",
    "        \n",
    "        self.stop_ambient_camera_rotation()\n",
    "        self.wait(1)"
   ]
  },
  {
   "cell_type": "code",
   "execution_count": 1,
   "metadata": {},
   "outputs": [
    {
     "data": {
      "text/html": [
       "<pre style=\"white-space:pre;overflow-x:auto;line-height:normal;font-family:Menlo,'DejaVu Sans Mono',consolas,'Courier New',monospace\">Manim Community <span style=\"color: #008000; text-decoration-color: #008000\">v0.13.1</span>\n",
       "\n",
       "</pre>\n"
      ],
      "text/plain": [
       "Manim Community \u001b[32mv0.\u001b[0m\u001b[32m13.1\u001b[0m\n",
       "\n"
      ]
     },
     "metadata": {},
     "output_type": "display_data"
    },
    {
     "data": {
      "text/plain": [
       "'0.13.1'"
      ]
     },
     "execution_count": 1,
     "metadata": {},
     "output_type": "execute_result"
    }
   ],
   "source": [
    "import manim as manim\n",
    "manim.__version__"
   ]
  },
  {
   "cell_type": "markdown",
   "metadata": {},
   "source": []
  }
 ],
 "metadata": {
  "interpreter": {
   "hash": "a5e9bb5c8109d9c89e3540dfae7ab7a0527331017fc9eeaf677245afa113f1a5"
  },
  "kernelspec": {
   "display_name": "Python 3.9.7 64-bit ('base': conda)",
   "language": "python",
   "name": "python3"
  },
  "language_info": {
   "codemirror_mode": {
    "name": "ipython",
    "version": 3
   },
   "file_extension": ".py",
   "mimetype": "text/x-python",
   "name": "python",
   "nbconvert_exporter": "python",
   "pygments_lexer": "ipython3",
   "version": "3.9.7"
  },
  "orig_nbformat": 4
 },
 "nbformat": 4,
 "nbformat_minor": 2
}
