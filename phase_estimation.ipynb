{
 "cells": [
  {
   "cell_type": "code",
   "execution_count": 1,
   "metadata": {},
   "outputs": [
    {
     "data": {
      "text/html": [
       "<pre style=\"white-space:pre;overflow-x:auto;line-height:normal;font-family:Menlo,'DejaVu Sans Mono',consolas,'Courier New',monospace\">Manim Community <span style=\"color: #008000; text-decoration-color: #008000\">v0.13.1</span>\n",
       "\n",
       "</pre>\n"
      ],
      "text/plain": [
       "Manim Community \u001b[32mv0.\u001b[0m\u001b[32m13.1\u001b[0m\n",
       "\n"
      ]
     },
     "metadata": {},
     "output_type": "display_data"
    }
   ],
   "source": [
    "%matplotlib inline\n",
    "import numpy as np\n",
    "\n",
    "import jupyter_manim\n",
    "from manim import *"
   ]
  },
  {
   "cell_type": "code",
   "execution_count": 29,
   "metadata": {},
   "outputs": [
    {
     "name": "stderr",
     "output_type": "stream",
     "text": [
      "                                                                                                   \r"
     ]
    },
    {
     "data": {
      "text/html": [
       "<video src=\"media\\jupyter\\phase_est_general@2022-01-17@14-36-50.mp4\" controls autoplay loop style=\"max-width: 60%;\"  >\n",
       "      Your browser does not support the <code>video</code> element.\n",
       "    </video>"
      ],
      "text/plain": [
       "<IPython.core.display.Video object>"
      ]
     },
     "metadata": {},
     "output_type": "display_data"
    }
   ],
   "source": [
    "%%manim -qm -v WARNING phase_est_general\n",
    "\n",
    "class phase_est_general(Scene):\n",
    "    config= {\n",
    "        \"x_lim\":int,    # define leftmost lowerlimit of x for circuit and gates\n",
    "        \"y_lim\":int,    # define up-most limit of y for circuit and gates\n",
    "        \n",
    "    }\n",
    "    def __init__(self, **kwargs):\n",
    "        super(phase_est_general, self).__init__()       #inheritance from class Scene\n",
    "        self.x_lim=-6.2\n",
    "        self.y_lim=-2.5\n",
    "        self.gap=1\n",
    "        self.n_qubit=6\n",
    "        self.sect=6\n",
    "        self.x_range=[None for i in range(self.sect+1)]\n",
    "        self.dots=[Dot() for i in range(self.n_qubit)]\n",
    "        self.circuitline=[[None for i in range(self.n_qubit)] for i in range(self.n_qubit)]   # List to hold all circuit line elements and VGroup  to include all the Mobjects of circuitline\n",
    "        self.circuit=VGroup()\n",
    "    def construct(self):\n",
    "        \n",
    "        # Algorithm name\n",
    "        algorithm=\"Phase Estimation ALgorithm\"\n",
    "        title = Title(algorithm,include_underline=False).set_y(3.1)     #title of the ALgorithm\n",
    "        self.add_foreground_mobject(title)\n",
    "        texTemplate = TexTemplate()\n",
    "        texTemplate.add_to_preamble(r\"\\usepackage{braket}\")\n",
    "\n",
    "        def create_gate(gate:str,x:int,y:int,control=None,scale=1,textcolor=WHITE,boxcolor=BLUE,fontsize=48,**kwargs):\n",
    "            if control:\n",
    "                gate_ = MathTex(gate,color=textcolor,font_size=fontsize).scale(scale+0.5).set_x(x).set_y(y)\n",
    "                gate_.bg = BackgroundRectangle(gate_,stroke_width=1,color=boxcolor, fill_opacity=1).scale(scale+1)\n",
    "                if type(control)==list:\n",
    "                    gate_block=VGroup()\n",
    "                    gate_block.add(gate_.bg,gate_)\n",
    "                    for i in range(len(control)):\n",
    "                        gate_block.add(Dot().set_x(x).set_y(control[i]))\n",
    "                        gate_block.add(Line([x,control[i],0], [x,y,0]))\n",
    "                    gate_block.add(gate_.bg,gate_)\n",
    "                    return gate_block\n",
    "                else:\n",
    "                    dot=Dot().set_x(x).set_y(control)\n",
    "                    control_line= Line([x,control,0], [x,y,0])\n",
    "                    return VGroup(control_line,gate_.bg,gate_,dot)\n",
    "            else:\n",
    "                gate_ = MathTex(gate,color=textcolor,font_size=fontsize).scale(scale+0.5).set_x(x).set_y(y)\n",
    "                gate_.bg = BackgroundRectangle(gate_,stroke_width=1,color=boxcolor, fill_opacity=1).scale(scale+1)\n",
    "                return VGroup(gate_.bg,gate_)\n",
    "        \n",
    "        def draw_circuitline(sect:int,xrange:list,lines=self.n_qubit,barrier=True,gap=self.gap,y_init=self.y_lim):\n",
    "            for i in range(lines):\n",
    "                self.circuitline[sect][i]=Line([xrange[0],y_init+i*gap,-0.5], [xrange[1],y_init+i*gap,-0.5])\n",
    "                self.circuit.add(self.circuitline[sect][i])\n",
    "                self.add(self.circuitline[sect][i])\n",
    "            if barrier:\n",
    "                barrierline=DashedLine([xrange[1],self.y_lim-0.5,0], [xrange[1],self.y_lim+gap*(self.n_qubit-0.5),0],\n",
    "                                            dashed_ratio=0.75).set_opacity(0.5)\n",
    "                self.add(barrierline)\n",
    "                # self.add(VGroup(circuit,barrierline))\n",
    "                # return VGroup(circuit,barrier)\n",
    "        def move_dot(sect: int,dots=self.dots):\n",
    "            animation=[]\n",
    "            for j in range(self.n_qubit):\n",
    "                animation.append(MoveAlongPath(dots[j], self.circuitline[sect][j]))\n",
    "            # self.play(*animation)\n",
    "            return animation\n",
    "        \n",
    "        def parallelgates(gate,x,sect:int,qubits:list,scale=1):\n",
    "            hgates=[]\n",
    "            for i in qubits:\n",
    "                hgate=create_gate(gate,x=x,y=self.y_lim+i*self.gap,control=None,scale=scale)\n",
    "                hgates.append(Create(hgate))\n",
    "            return hgates\n",
    "\n",
    "        \n",
    "        # Section I: Uniform Superposition\n",
    "        depth=sect=1\n",
    "        self.x_range[0]=[self.x_lim,self.x_lim+0.5+0.75*(depth-1)]\n",
    "        self.x_range[sect]=[self.x_range[sect-1][1],self.x_range[sect-1][1]+1.5+0.5*(depth)]\n",
    "        \n",
    "        draw_circuitline(sect,xrange=self.x_range[sect])\n",
    "        annot=MathTex(r\"H^{\\otimes t}\").scale(1).set_x(self.x_range[sect][0]+1).set_y(self.y_lim-0.3)\n",
    "        first_reg=MathTex(r\"\\ket{0}^{\\otimes t}\",\n",
    "                tex_template=texTemplate).scale(1).set_x(self.x_range[sect][0]-0.4).set_y(self.y_lim+self.gap*3)\n",
    "        Psi=MathTex(r\"\\ket{\\psi}\",\n",
    "                tex_template=texTemplate).scale(1).set_x(self.x_range[sect][0]-0.4).set_y(self.y_lim)\n",
    "        cont_dot=MathTex(r\".....\").scale(1.2).set_x(self.x_range[sect][0]+0.2).set_y(self.y_lim+self.gap*2.5).rotate(np.pi/2)\n",
    "        self.add(cont_dot,first_reg,Psi)\n",
    "        self.play(*move_dot(1),\n",
    "                    *parallelgates(gate=r\"H\",sect=1,x=1.01*self.x_range[sect][0]+1,qubits=[_ for _ in range(1,6)],scale=0.5),\n",
    "                    Create(annot),\n",
    "                    runtime=2)\n",
    "\n",
    "        # section II: Controlled phase rotation gates\n",
    "        sect=2\n",
    "        depth=3\n",
    "        self.x_range[sect]=[self.x_range[sect-1][1],self.x_range[sect-1][1]+2+1*(depth)]\n",
    "        draw_circuitline(sect,xrange=self.x_range[sect])\n",
    "        rot1=create_gate(r\"U^{2^{t-1}}\",x=self.x_range[sect][0]+0.75,\n",
    "                            y=self.y_lim,control=self.y_lim+self.gap*5,scale=0.25)\n",
    "        rot2=create_gate(r\"U^{2^{t-2}}\",x=self.x_range[sect][0]+2,\n",
    "                            y=self.y_lim,control=self.y_lim+self.gap*4,scale=0.25)\n",
    "        rot_d=create_gate(r\"...\",x=self.x_range[sect][0]+3,y=self.y_lim,\n",
    "                                textcolor=WHITE,boxcolor=BLACK,scale=0.75)\n",
    "        cont_dot=MathTex(r\".....\").scale(1.2).set_x(self.x_range[sect][0]+3.5).set_y(self.y_lim+self.gap*2.5).rotate(np.pi/2)\n",
    "        self.add(cont_dot)\n",
    "        rot_t=create_gate(r\"U^{2^{0}\",x=self.x_range[sect][0]+4,\n",
    "                            y=self.y_lim,control=self.y_lim+self.gap*1,scale=0.25)\n",
    "        \n",
    "        self.play(*move_dot(sect),Create(rot1),Create(rot2),Create(rot_d), Create(rot_t))\n",
    "\n",
    "        #SECTION III\n",
    "        sect=3\n",
    "        depth=0\n",
    "        self.x_range[sect]=[self.x_range[sect-1][1],self.x_range[sect-1][1]+2+1*(depth)]\n",
    "        draw_circuitline(sect,xrange=self.x_range[sect])  \n",
    "        box=Rectangle(color=BLUE,height=5.4,width=1,fill_opacity=1).set_x(self.x_range[sect][0]+1).set_y(0)\n",
    "        text1=MathTex(r\"QFT^{\\dag}\").scale(0.75).set_x(self.x_range[sect][0]+1).set_y(0)\n",
    "        self.play(*move_dot(sect),Create(box),Create(text1))\n",
    "\n",
    "        # Section IV\n",
    "        sect=4\n",
    "        depth=0\n",
    "        self.x_range[sect]=[self.x_range[sect-1][1],self.x_range[sect-1][1]+2+1*(depth)]\n",
    "        draw_circuitline(sect,xrange=self.x_range[sect])\n",
    "        anim=[]\n",
    "        for i in range(5):\n",
    "            meas=create_gate(r\"\\not \\frown\",x=self.x_range[sect][0]+1,\n",
    "                                y=self.y_lim+self.gap*i+1,scale=0.5)\n",
    "            anim.append(Create(meas))\n",
    "        self.play(*move_dot(sect), *anim)\n",
    "        final_state=MathTex(r\"\\ket{2^t \\theta}\",\n",
    "                tex_template=texTemplate).scale(1).set_x(self.x_range[sect][1]+0.6).set_y(self.y_lim+self.gap*3)\n",
    "        self.play(Create(final_state))\n",
    "        self.wait(3)\n"
   ]
  },
  {
   "cell_type": "code",
   "execution_count": 27,
   "metadata": {},
   "outputs": [
    {
     "data": {
      "text/plain": [
       "[1, 2, 3, 4, 5, 6]"
      ]
     },
     "execution_count": 27,
     "metadata": {},
     "output_type": "execute_result"
    }
   ],
   "source": []
  }
 ],
 "metadata": {
  "interpreter": {
   "hash": "a707b6ce8c685eb936424fcc3009d4b4b7a52543c4db09380a3fc49186ceb509"
  },
  "kernelspec": {
   "display_name": "Python 3.9.7 64-bit ('base': conda)",
   "language": "python",
   "name": "python3"
  },
  "language_info": {
   "codemirror_mode": {
    "name": "ipython",
    "version": 3
   },
   "file_extension": ".py",
   "mimetype": "text/x-python",
   "name": "python",
   "nbconvert_exporter": "python",
   "pygments_lexer": "ipython3",
   "version": "3.9.7"
  },
  "orig_nbformat": 4
 },
 "nbformat": 4,
 "nbformat_minor": 2
}
