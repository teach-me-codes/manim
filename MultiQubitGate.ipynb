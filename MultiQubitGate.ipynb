{
 "cells": [
  {
   "cell_type": "code",
   "execution_count": 1,
   "metadata": {},
   "outputs": [
    {
     "data": {
      "text/html": [
       "<pre style=\"white-space:pre;overflow-x:auto;line-height:normal;font-family:Menlo,'DejaVu Sans Mono',consolas,'Courier New',monospace\">Manim Community <span style=\"color: #008000; text-decoration-color: #008000\">v0.13.1</span>\n",
       "\n",
       "</pre>\n"
      ],
      "text/plain": [
       "Manim Community \u001b[32mv0.\u001b[0m\u001b[32m13.1\u001b[0m\n",
       "\n"
      ]
     },
     "metadata": {},
     "output_type": "display_data"
    }
   ],
   "source": [
    "%matplotlib inline\n",
    "import numpy as np\n",
    "\n",
    "import jupyter_manim\n",
    "from manim import *"
   ]
  },
  {
   "cell_type": "code",
   "execution_count": 60,
   "metadata": {},
   "outputs": [
    {
     "name": "stderr",
     "output_type": "stream",
     "text": [
      "                                                                                      \r"
     ]
    },
    {
     "data": {
      "text/html": [
       "<video src=\"media\\jupyter\\CNOTgate@2022-01-07@14-01-17.mp4\" controls autoplay loop style=\"max-width: 60%;\"  >\n",
       "      Your browser does not support the <code>video</code> element.\n",
       "    </video>"
      ],
      "text/plain": [
       "<IPython.core.display.Video object>"
      ]
     },
     "metadata": {},
     "output_type": "display_data"
    }
   ],
   "source": [
    "%%manim -qm -v WARNING CNOTgate\n",
    "# from IPython.display import Markdown, display\n",
    "# def printmd(string):\n",
    "#     display(Markdown(string))\n",
    "\n",
    "# printmd(r\"$$i \\mid 1 \\rangle$$\")\n",
    "\n",
    "\n",
    "\n",
    "class CNOTgate(Scene):\n",
    "    def construct(self):\n",
    "        # Gate Name\n",
    "        gate=\"Controlled-Not gate\"\n",
    "        title = Title(gate,include_underline=False).set_y(2)\n",
    "\n",
    "        # quantum circuit and gate notation\n",
    "        # gate_notation=\"X\"\n",
    "        circuitline1_a,circuitline1_b= Line([-6,1,0], [0,1,0]),Line([0,1,0], [6,1,0])\n",
    "        circuitline2_a,circuitline2_b= Line([-6,-1,0], [0,-1,0]),Line([0,-1,0], [6,-1,0])\n",
    "        controlline=Line([0,1,0], [0,-1,0])\n",
    "        circuitlines=VGroup(circuitline1_a,circuitline1_b,circuitline2_a,circuitline2_b,controlline)\n",
    "        \n",
    "        gate = Text(\"X\",color=WHITE).scale(1.5).set_x(0).set_y(-1)\n",
    "        gate.bg = BackgroundRectangle(gate,stroke_width=1,color=BLUE, fill_opacity=1).scale(2)\n",
    "        dot1,dot2 = Dot(),Dot()\n",
    "        cnotdot=Dot().set_x(0).set_y(1)\n",
    "        foreground=VGroup(title, circuitlines,gate.bg,gate,cnotdot)\n",
    "        self.add_foreground_mobject(foreground)\n",
    "        \n",
    "        def initial_animation(initialstate:list):\n",
    "            #initial states\n",
    "            if type(initialstate[0])!=str:\n",
    "                initialstate=[str(i) for i in initialstate]\n",
    "            init_state_a = MathTex(r\"\\mid\"+initialstate[0]+ r\"\\rangle\", font_size=40).set_x(-5).set_y(1.4)\n",
    "            init_state_b = MathTex(r\"\\mid\"+initialstate[1]+ r\"\\rangle\", font_size=40).set_x(-5).set_y(-0.6)\n",
    "            # self.add(init_state_a,init_state_b)\n",
    "\n",
    "            # initial state animation\n",
    "            self.play(MoveAlongPath(dot1, circuitline1_a),init_state_a.animate.move_to([0,1.5,0]),\n",
    "                        MoveAlongPath(dot2, circuitline2_a),init_state_b.animate.move_to([0,-0.6,0]),\n",
    "                        run_time=2)\n",
    "            self.remove(init_state_a,init_state_b)\n",
    "\n",
    "        def finalstates_animation(finalstate):\n",
    "            #final states\n",
    "            if type(finalstate[0])!=str:\n",
    "                finalstate=[str(i) for i in finalstate]\n",
    "            final_state_a = MathTex(r\"\\mid\"+finalstate[0]+ r\"\\rangle\", font_size=40).set_x(0).set_y(1.4)\n",
    "            final_state_b = MathTex(r\"\\mid \"+finalstate[1]+ r\"\\rangle\", font_size=40).set_x(0).set_y(-0.6)\n",
    "\n",
    "            #final states animation\n",
    "            self.play(MoveAlongPath(dot1, circuitline1_b),final_state_a.animate.move_to([5,1.5,0]),\n",
    "                        MoveAlongPath(dot2, circuitline2_b),final_state_b.animate.move_to([5,-0.6,0]),\n",
    "                        run_time=2)\n",
    "            self.remove(final_state_a,final_state_b)\n",
    "\n",
    "        #input=[0,0]\n",
    "        initial_animation([0,0])\n",
    "        finalstates_animation([0,0])\n",
    "        #input state=[0,1]\n",
    "        initial_animation([0,1])\n",
    "        finalstates_animation([0,0])\n",
    "        #input state=[1,0]\n",
    "        initial_animation([1,0])\n",
    "        finalstates_animation([1,1])\n",
    "        #input state=[1,1]\n",
    "        initial_animation([1,1])\n",
    "        finalstates_animation([1,0])\n",
    "    \n",
    "\n"
   ]
  },
  {
   "cell_type": "code",
   "execution_count": null,
   "metadata": {},
   "outputs": [],
   "source": []
  },
  {
   "cell_type": "code",
   "execution_count": null,
   "metadata": {},
   "outputs": [],
   "source": [
    "import shutil\n",
    "shutil.copytree(r\"./media/videos/qc_on_manim/720p30\",r\"./videos\",\n",
    "                ignore=shutil.ignore_patterns( \"partial_movie_files\"),\n",
    "                dirs_exist_ok=True)"
   ]
  }
 ],
 "metadata": {
  "interpreter": {
   "hash": "a707b6ce8c685eb936424fcc3009d4b4b7a52543c4db09380a3fc49186ceb509"
  },
  "kernelspec": {
   "display_name": "Python 3.9.7 64-bit ('base': conda)",
   "language": "python",
   "name": "python3"
  },
  "language_info": {
   "name": "python",
   "version": "3.9.7"
  },
  "orig_nbformat": 4
 },
 "nbformat": 4,
 "nbformat_minor": 2
}
