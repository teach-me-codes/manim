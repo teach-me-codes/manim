{
 "cells": [
  {
   "cell_type": "code",
   "execution_count": 1,
   "metadata": {},
   "outputs": [
    {
     "data": {
      "text/html": [
       "<pre style=\"white-space:pre;overflow-x:auto;line-height:normal;font-family:Menlo,'DejaVu Sans Mono',consolas,'Courier New',monospace\">Manim Community <span style=\"color: #008000; text-decoration-color: #008000\">v0.13.1</span>\n",
       "\n",
       "</pre>\n"
      ],
      "text/plain": [
       "Manim Community \u001b[32mv0.\u001b[0m\u001b[32m13.1\u001b[0m\n",
       "\n"
      ]
     },
     "metadata": {},
     "output_type": "display_data"
    }
   ],
   "source": [
    "%matplotlib inline\n",
    "import numpy as np\n",
    "\n",
    "import jupyter_manim\n",
    "from manim import *"
   ]
  },
  {
   "cell_type": "code",
   "execution_count": 33,
   "metadata": {},
   "outputs": [
    {
     "name": "stderr",
     "output_type": "stream",
     "text": [
      "                                                                                         \r"
     ]
    },
    {
     "name": "stdout",
     "output_type": "stream",
     "text": [
      "[[-4.5, -1.25], [-1.25, 1.25], None, None, None]\n"
     ]
    },
    {
     "name": "stderr",
     "output_type": "stream",
     "text": [
      "                                                                                                 \r"
     ]
    },
    {
     "name": "stdout",
     "output_type": "stream",
     "text": [
      "[[-4.5, -2.0], [-1.25, 1.25], [1.25, 3.25], None, None]\n"
     ]
    },
    {
     "name": "stderr",
     "output_type": "stream",
     "text": [
      "                                                                                                 \r"
     ]
    },
    {
     "name": "stdout",
     "output_type": "stream",
     "text": [
      "[[-4.5, -2.75], [-1.25, 1.25], [1.25, 3.25], [3.25, 4.75], None]\n"
     ]
    },
    {
     "name": "stderr",
     "output_type": "stream",
     "text": [
      "                                                                                                 \r"
     ]
    },
    {
     "name": "stdout",
     "output_type": "stream",
     "text": [
      "[[-4.5, -3.5], [-1.25, 1.25], [1.25, 3.25], [3.25, 4.75], [4.75, 5.75]]\n"
     ]
    },
    {
     "name": "stderr",
     "output_type": "stream",
     "text": [
      "                                                                                        \r"
     ]
    },
    {
     "data": {
      "text/html": [
       "<video src=\"media\\jupyter\\qftcircuit@2022-01-13@16-28-50.mp4\" controls autoplay loop style=\"max-width: 60%;\"  >\n",
       "      Your browser does not support the <code>video</code> element.\n",
       "    </video>"
      ],
      "text/plain": [
       "<IPython.core.display.Video object>"
      ]
     },
     "metadata": {},
     "output_type": "display_data"
    }
   ],
   "source": [
    "%%manim -qm -v WARNING qftcircuit\n",
    "\n",
    "class qftcircuit(Scene):\n",
    "    config= {\n",
    "        \"x_lim\":int,    # define leftmost lowerlimit of x for circuit and gates\n",
    "        \"y_lim\":int,    # define up-most limit of y for circuit and gates\n",
    "        \n",
    "    }\n",
    "    def __init__(self, **kwargs):\n",
    "        super(qftcircuit, self).__init__()       #inheritance from class Scene\n",
    "        self.x_lim=-5\n",
    "        self.y_lim=-2\n",
    "        self.gap=1\n",
    "        self.n_qubit=4\n",
    "        self.x_range=[None for i in range(self.n_qubit+1)]\n",
    "        self.dots=[Dot() for i in range(self.n_qubit)]\n",
    "        self.circuitline=[[None for i in range(5)] for i in range(5)]   # List to hold all circuit line elements and VGroup  to include all the Mobjects of circuitline\n",
    "        self.circuit=VGroup()\n",
    "    \n",
    "\n",
    "    def construct(self):\n",
    "        \n",
    "        # Algorithm name\n",
    "        algorithm=\"Quantum Fourier Transform\"\n",
    "        title = Title(algorithm,include_underline=False).set_y(3.1)     #title of the ALgorithm\n",
    "        self.add_foreground_mobject(title)\n",
    "\n",
    "        #section zero: create all registers: quantum and classical\n",
    "        # regs=[MathTex(r\"q_\"+str(i)) for i in range(n_qubit)] # create quantum register\n",
    "        \n",
    "        registers=VGroup()\n",
    "        regs=[MathTex(r\"q_\"+str(i)) for i in range(self.n_qubit)]\n",
    "        for i,reg in enumerate(regs):       #add registers to the scene\n",
    "            reg.set_x(self.x_lim).set_y(self.y_lim+i*self.gap)\n",
    "            registers.add(reg)\n",
    "        self.add(registers)\n",
    "\n",
    "        def create_gate(gate:str,x:int,y:int,control=None,scale=1,textcolor=WHITE,boxcolor=BLUE,fontsize=48):\n",
    "            if control:\n",
    "                dot=Dot().set_x(x).set_y(control)\n",
    "                control_line= Line([x,control,0], [x,y,0])\n",
    "                gate_ = MathTex(gate,color=textcolor,font_size=fontsize).scale(scale+0.5).set_x(x).set_y(y)\n",
    "                gate_.bg = BackgroundRectangle(gate_,stroke_width=1,color=boxcolor, fill_opacity=1).scale(scale+1)\n",
    "                return VGroup(control_line,gate_.bg,gate_,dot)\n",
    "            else:\n",
    "                gate_ = MathTex(gate,color=textcolor,font_size=fontsize).scale(scale+0.5).set_x(x).set_y(y)\n",
    "                gate_.bg = BackgroundRectangle(gate_,stroke_width=1,color=boxcolor, fill_opacity=1).scale(scale+1)\n",
    "                return VGroup(gate_.bg,gate_)\n",
    "        \n",
    "        def draw_circuitline(sect:int,xrange:list,ydiff=self.gap,barrier=True):\n",
    "            for i in range(self.n_qubit):\n",
    "                self.circuitline[sect][i]=Line([xrange[0],ydiff-i,-0.5], [xrange[1],ydiff-i,-0.5])\n",
    "                self.circuit.add(self.circuitline[sect][i])\n",
    "                self.add(self.circuitline[sect][i])\n",
    "            if barrier:\n",
    "                barrierline=DashedLine([xrange[1],self.y_lim-0.5,0], [xrange[1],self.y_lim+self.gap*(self.n_qubit-0.5),0],dashed_ratio=0.75).set_opacity(0.5)\n",
    "                self.add(barrierline)\n",
    "                # self.add(VGroup(circuit,barrierline))\n",
    "                # return VGroup(circuit,barrier)\n",
    "        def move_dot(sect: int,dots=self.dots):\n",
    "            animation=[]\n",
    "            for j in range(self.n_qubit):\n",
    "                animation.append(MoveAlongPath(dots[j], self.circuitline[sect][j]))\n",
    "            # self.play(*animation)\n",
    "            return animation\n",
    "\n",
    "        def qft_element(sect=1,ctr_rep=0,barrier=True):\n",
    "            \n",
    "            self.x_range[0]=[self.x_lim+0.5,self.x_lim+1.5+0.75*(ctr_rep)]\n",
    "            if sect>0:\n",
    "                self.x_range[sect]=[self.x_range[sect-1][1],self.x_range[sect-1][1]+1+0.5*(ctr_rep)]\n",
    "            sect-=1\n",
    "            \n",
    "            draw_circuitline(sect,xrange=self.x_range[sect],barrier=barrier)\n",
    "            hgate=create_gate(r\"H\",x=1.01*self.x_range[sect][0]+0.5,y=self.y_lim+sect*self.gap,scale=0.1*self.n_qubit)\n",
    "            phaseanim=[]\n",
    "            for i in range(ctr_rep):\n",
    "                i+=1\n",
    "                angle=int(2**(i))\n",
    "                phasegate=create_gate(r\"\\pi\"+\"/\"+str(angle),x=self.x_range[sect][0]+(i+0.5)*0.75,y=self.y_lim+(sect+0.01)*self.gap,\n",
    "                                        scale=0.03*self.n_qubit,fontsize=48,control=self.y_lim+(sect+i+0.01)*self.gap)\n",
    "                            \n",
    "                phaseanim.append(Create(phasegate))\n",
    "            if ctr_rep>0:\n",
    "                self.play(Create(hgate),*phaseanim,runtime=2*ctr_rep)\n",
    "            else:\n",
    "                self.play(Create(hgate),runtime=1)\n",
    "            print(self.x_range)\n",
    "            \n",
    "\n",
    "    \n",
    "        # Section I\n",
    "        qft_element(sect=1,ctr_rep=3)\n",
    "\n",
    "        texTemplate = TexTemplate()\n",
    "        texTemplate.add_to_preamble(r\"\\usepackage{braket}\")\n",
    "       \n",
    "        state_1a= MathTex(r\"\\ket{q_0}\",tex_template=texTemplate, \n",
    "                                        font_size=20).set_x(self.x_range[0][0]).set_y(self.y_lim+0.5+3*self.gap)\n",
    "        state_2a= MathTex(r\"\\ket{q_1}\",tex_template=texTemplate, \n",
    "                                        font_size=20).set_x(self.x_range[0][0]).set_y(self.y_lim+0.5+2*self.gap)\n",
    "        state_3a= MathTex(r\"\\ket{q_2}}\",tex_template=texTemplate, \n",
    "                                        font_size=20).set_x(self.x_range[0][0]).set_y(self.y_lim+0.5+self.gap)\n",
    "        state_4a= MathTex(r\"\\ket{q_3}}\",tex_template=texTemplate, \n",
    "                                        font_size=20).set_x(self.x_range[0][0]).set_y(self.y_lim+0.5)\n",
    "        self.play(Create(state_1a),Create(state_2a),Create(state_3a),Create(state_4a))\n",
    "        self.wait()\n",
    "\n",
    "        # state_1b= MathTex(r\"\\ket{q_0}\",tex_template=texTemplate, \n",
    "        #                                 font_size=20).set_x(self.x_range[1][0]).set_y(self.y_lim+0.5+3*self.gap)\n",
    "        # state_2b= MathTex(r\"\\ket{q_1}\",tex_template=texTemplate, \n",
    "        #                                 font_size=20).set_x(self.x_range[1][0]).set_y(self.y_lim+0.5+2*self.gap)\n",
    "        # state_3b= MathTex(r\"\\ket{q_2}}\",tex_template=texTemplate, \n",
    "        #                                 font_size=20).set_x(self.x_range[1][0]).set_y(self.y_lim+0.5+self.gap)\n",
    "        state_4b= MathTex(r\"\\frac{1}{\\sqrt{2}} \\bigr( \\ket{0} + e^{2\\pi i 0.q_{3}q_{2}q_{1}q_{0} } \\ket{1}\\bigr)\",\n",
    "                            tex_template=texTemplate, font_size=20).set_x(self.x_range[1][0]).set_y(self.y_lim+0.5)\n",
    "\n",
    "        self.play(state_1a.animate.move_to([self.x_range[1][0],self.y_lim+0.5+3*self.gap,0]),\n",
    "                    state_2a.animate.move_to([self.x_range[1][0],self.y_lim+0.5+2*self.gap,0]),\n",
    "                    state_3a.animate.move_to([self.x_range[1][0],self.y_lim+0.5+self.gap,0]),\n",
    "                    FadeTransform(state_4a,state_4b),\n",
    "                    *move_dot(0),runtime=2)\n",
    "\n",
    "        \n",
    "        \n",
    "        # self.play(state_psi.animate.move_to([sect_range1[1],2.5,0]),\n",
    "        #             FadeTransform(state_1a,state_1b),\n",
    "        #             *move_dot(sect=1),\n",
    "        #             runtime=3)\n",
    "\n",
    "        # Section II\n",
    "        qft_element(sect=2,ctr_rep=2)\n",
    "        sect=2\n",
    "        state_3c= MathTex(r\"\\frac{1}{\\sqrt{2}} \\bigr( \\ket{0} + e^{2\\pi i 0.q_{3}q_{2}q_{1}q_{0} } \\ket{1}\\bigr)\",\n",
    "                            tex_template=texTemplate, font_size=20).set_x(self.x_range[sect][0]).set_y(self.y_lim+0.5+self.gap)\n",
    "        self.play(state_1a.animate.move_to([self.x_range[sect][0],self.y_lim+0.5+3*self.gap,0]),\n",
    "                    state_2a.animate.move_to([self.x_range[sect][0],self.y_lim+0.5+2*self.gap,0]),\n",
    "                    FadeTransform(state_3a,state_3c),\n",
    "                    state_4b.animate.move_to([self.x_range[sect][0],self.y_lim+0.5,0]),\n",
    "                    *move_dot(1),runtime=2)\n",
    "        # Section III\n",
    "        qft_element(sect=3,ctr_rep=1)\n",
    "        sect=3\n",
    "        state_2d= MathTex(r\"\\frac{1}{\\sqrt{2}} \\bigr( \\ket{0} + e^{2\\pi i 0.q_{3}q_{2} } \\ket{1}\\bigr)\",\n",
    "                            tex_template=texTemplate, font_size=20).set_x(self.x_range[sect][0]).set_y(self.y_lim+0.5+2*self.gap)\n",
    "        self.play(state_1a.animate.move_to([self.x_range[sect][0],self.y_lim+0.5+3*self.gap,0]),\n",
    "                    FadeTransform(state_2a,state_2d),\n",
    "                    state_3c.animate.move_to([self.x_range[sect][0],self.y_lim+0.5+self.gap,0]),\n",
    "                    state_4b.animate.move_to([self.x_range[sect][0],self.y_lim+0.5,0]),\n",
    "                    *move_dot(2),runtime=2)\n",
    "        # #section IV\n",
    "        qft_element(sect=4,ctr_rep=0,barrier=False)\n",
    "        sect=4\n",
    "        state_1e= MathTex(r\"\\frac{1}{\\sqrt{2}} \\bigr( \\ket{0} + e^{2\\pi i 0.q_{3} } \\ket{1}\\bigr)\",\n",
    "                            tex_template=texTemplate, font_size=20).set_x(self.x_range[sect][0]).set_y(self.y_lim+0.5+3*self.gap)\n",
    "        self.play(FadeTransform(state_1a,state_1e),\n",
    "                    state_2d.animate.move_to([self.x_range[sect][0],self.y_lim+0.5+2*self.gap,0]),\n",
    "                    state_3c.animate.move_to([self.x_range[sect][0],self.y_lim+0.5+self.gap,0]),\n",
    "                    state_4b.animate.move_to([self.x_range[sect][0],self.y_lim+0.5,0]),\n",
    "                    *move_dot(3),runtime=2)\n",
    "        self.wait(2)\n",
    "        \n",
    "\n",
    "\n"
   ]
  },
  {
   "cell_type": "code",
   "execution_count": 8,
   "metadata": {},
   "outputs": [
    {
     "data": {
      "text/plain": [
       "'0.13.1'"
      ]
     },
     "execution_count": 8,
     "metadata": {},
     "output_type": "execute_result"
    }
   ],
   "source": [
    "import manim as manim\n",
    "manim.__version__"
   ]
  },
  {
   "cell_type": "code",
   "execution_count": null,
   "metadata": {},
   "outputs": [],
   "source": []
  }
 ],
 "metadata": {
  "interpreter": {
   "hash": "a707b6ce8c685eb936424fcc3009d4b4b7a52543c4db09380a3fc49186ceb509"
  },
  "kernelspec": {
   "display_name": "Python 3.9.7 64-bit ('base': conda)",
   "language": "python",
   "name": "python3"
  },
  "language_info": {
   "codemirror_mode": {
    "name": "ipython",
    "version": 3
   },
   "file_extension": ".py",
   "mimetype": "text/x-python",
   "name": "python",
   "nbconvert_exporter": "python",
   "pygments_lexer": "ipython3",
   "version": "3.9.7"
  },
  "orig_nbformat": 4
 },
 "nbformat": 4,
 "nbformat_minor": 2
}
