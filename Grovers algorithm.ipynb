{
 "cells": [
  {
   "cell_type": "code",
   "execution_count": 2,
   "metadata": {},
   "outputs": [
    {
     "data": {
      "text/html": [
       "<pre style=\"white-space:pre;overflow-x:auto;line-height:normal;font-family:Menlo,'DejaVu Sans Mono',consolas,'Courier New',monospace\">Manim Community <span style=\"color: #008000; text-decoration-color: #008000\">v0.13.1</span>\n",
       "\n",
       "</pre>\n"
      ],
      "text/plain": [
       "Manim Community \u001b[32mv0.\u001b[0m\u001b[32m13.1\u001b[0m\n",
       "\n"
      ]
     },
     "metadata": {},
     "output_type": "display_data"
    }
   ],
   "source": [
    "%matplotlib inline\n",
    "import numpy as np\n",
    "\n",
    "import jupyter_manim\n",
    "from manim import *"
   ]
  },
  {
   "cell_type": "code",
   "execution_count": 90,
   "metadata": {},
   "outputs": [
    {
     "name": "stderr",
     "output_type": "stream",
     "text": [
      "                                                                            \r"
     ]
    },
    {
     "name": "stdout",
     "output_type": "stream",
     "text": [
      "[[-6, -5.5], [-5.5, -3.5], [-3.5, -1.5], None, None, None, None]\n"
     ]
    },
    {
     "name": "stderr",
     "output_type": "stream",
     "text": [
      "                                                                                      \r"
     ]
    },
    {
     "data": {
      "text/html": [
       "<video src=\"media\\jupyter\\Grover_2qbit@2022-01-14@17-31-51.mp4\" controls autoplay loop style=\"max-width: 60%;\"  >\n",
       "      Your browser does not support the <code>video</code> element.\n",
       "    </video>"
      ],
      "text/plain": [
       "<IPython.core.display.Video object>"
      ]
     },
     "metadata": {},
     "output_type": "display_data"
    }
   ],
   "source": [
    "%%manim -qm -v WARNING Grover_2qbit\n",
    "\n",
    "class Grover_2qbit(Scene):\n",
    "    config= {\n",
    "        \"x_lim\":int,    # define leftmost lowerlimit of x for circuit and gates\n",
    "        \"y_lim\":int,    # define up-most limit of y for circuit and gates\n",
    "        \n",
    "    }\n",
    "    def __init__(self, **kwargs):\n",
    "        super(Grover_2qbit, self).__init__()       #inheritance from class Scene\n",
    "        self.x_lim=-6\n",
    "        self.y_lim=-1\n",
    "        self.gap=2\n",
    "        self.n_qubit=2\n",
    "        self.sect=6\n",
    "        self.x_range=[None for i in range(self.sect+1)]\n",
    "        self.dots=[Dot() for i in range(self.n_qubit)]\n",
    "        self.circuitline=[[None for i in range(5)] for i in range(5)]   # List to hold all circuit line elements and VGroup  to include all the Mobjects of circuitline\n",
    "        self.circuit=VGroup()\n",
    "    def construct(self):\n",
    "        \n",
    "        # Algorithm name\n",
    "        algorithm=\"Grover's Algorithm\"\n",
    "        title = Title(algorithm,include_underline=False).set_y(3.1)     #title of the ALgorithm\n",
    "        self.add_foreground_mobject(title)\n",
    "\n",
    "        #section zero: create all registers: quantum and classical\n",
    "        # regs=[MathTex(r\"q_\"+str(i)) for i in range(n_qubit)] # create quantum register\n",
    "        \n",
    "        registers=VGroup()\n",
    "        regs=[MathTex(r\"q_\"+str(i)) for i in range(self.n_qubit)]\n",
    "        for i,reg in enumerate(regs):       #add registers to the scene\n",
    "            reg.set_x(self.x_lim).set_y(self.y_lim+(i)*self.gap)\n",
    "            registers.add(reg)\n",
    "        self.add(registers)\n",
    "\n",
    "        def create_gate(gate:str,x:int,y:int,control=None,scale=1,textcolor=WHITE,boxcolor=BLUE,fontsize=48):\n",
    "            if control:\n",
    "                dot=Dot().set_x(x).set_y(control)\n",
    "                control_line= Line([x,control,0], [x,y,0])\n",
    "                gate_ = MathTex(gate,color=textcolor,font_size=fontsize).scale(scale+0.5).set_x(x).set_y(y)\n",
    "                gate_.bg = BackgroundRectangle(gate_,stroke_width=1,color=boxcolor, fill_opacity=1).scale(scale+1)\n",
    "                return VGroup(control_line,gate_.bg,gate_,dot)\n",
    "            else:\n",
    "                gate_ = MathTex(gate,color=textcolor,font_size=fontsize).scale(scale+0.5).set_x(x).set_y(y)\n",
    "                gate_.bg = BackgroundRectangle(gate_,stroke_width=1,color=boxcolor, fill_opacity=1).scale(scale+1)\n",
    "                return VGroup(gate_.bg,gate_)\n",
    "        \n",
    "        def draw_circuitline(sect:int,xrange:list,barrier=True):\n",
    "            for i in range(self.n_qubit):\n",
    "                self.circuitline[sect][i]=Line([xrange[0],self.y_lim+i*self.gap,-0.5], [xrange[1],self.y_lim+i*self.gap,-0.5])\n",
    "                self.circuit.add(self.circuitline[sect][i])\n",
    "                self.add(self.circuitline[sect][i])\n",
    "            if barrier:\n",
    "                barrierline=DashedLine([xrange[1],self.y_lim-0.5,0], [xrange[1],self.y_lim+self.gap*(self.n_qubit-0.5),0],dashed_ratio=0.75).set_opacity(0.5)\n",
    "                self.add(barrierline)\n",
    "                # self.add(VGroup(circuit,barrierline))\n",
    "                # return VGroup(circuit,barrier)\n",
    "        def move_dot(sect: int,dots=self.dots):\n",
    "            animation=[]\n",
    "            for j in range(self.n_qubit):\n",
    "                animation.append(MoveAlongPath(dots[j], self.circuitline[sect][j]))\n",
    "            # self.play(*animation)\n",
    "            return animation\n",
    "        \n",
    "        def parallelgates(gate,x,sect:int,qubits=self.n_qubit):\n",
    "            hgates=[]\n",
    "            for i in range(qubits):\n",
    "                hgate=create_gate(gate,x=x,y=self.y_lim+i*self.gap)\n",
    "                hgates.append(Create(hgate))\n",
    "            return hgates\n",
    "\n",
    "        \n",
    "        # Section I: Uniform Superposition\n",
    "        depth=sect=1\n",
    "        self.x_range[0]=[self.x_lim,self.x_lim+0.5+0.75*(depth-1)]\n",
    "        self.x_range[sect]=[self.x_range[sect-1][1],self.x_range[sect-1][1]+1.5+0.5*(depth)]\n",
    "        \n",
    "        draw_circuitline(sect,xrange=self.x_range[sect])\n",
    "        annot=MathTex(r\"H^{\\otimes 2}\").scale(0.75).set_x(self.x_range[sect][0]+1).set_y(self.y_lim-1)\n",
    "        self.play(*move_dot(1),*parallelgates(gate=r\"H\",sect=1,x=1.01*self.x_range[sect][0]+1),Create(annot))\n",
    "\n",
    "        # section II: Oracle function Controlled Phase rotation\n",
    "        sect=2\n",
    "        depth==0\n",
    "        self.x_range[sect]=[self.x_range[sect-1][1],self.x_range[sect-1][1]+1.5+0.5*(depth)]\n",
    "        pgate_1=create_gate(r\"Z\",x=self.x_range[sect][0]+(1+0.5)*0.75,y=self.y_lim+(1+0.01)*self.gap,\n",
    "                                        fontsize=48,control=self.y_lim-(0.0)*self.gap)\n",
    "        draw_circuitline(sect,xrange=self.x_range[sect])\n",
    "        annot=MathTex(r\"Oracle\").scale(0.75).set_x(self.x_range[sect][0]+1).set_y(self.y_lim-1)\n",
    "        self.play(*move_dot(sect),Create(pgate_1),Create(annot))\n",
    "        print(self.x_range) \n",
    "        # Section III: Reflection\n",
    "        sect=3\n",
    "        depth=3\n",
    "        self.x_range[sect]=[self.x_range[sect-1][1],self.x_range[sect-1][1]+1.5+1*(depth+2)]\n",
    "        pgate_1=create_gate(r\"Z\",x=self.x_range[sect][0]+3.5+0.5*0.75,y=self.y_lim+1.001*self.gap,\n",
    "                                        fontsize=48,control=self.y_lim-(0.0)*self.gap)\n",
    "        draw_circuitline(sect,xrange=self.x_range[sect],barrier=False)\n",
    "        annot=MathTex(\"Reflection \\; layer\").scale(0.75).set_x(sum(self.x_range[sect])/len(self.x_range[sect])).set_y(self.y_lim-1)\n",
    "        self.play(*move_dot(sect),*parallelgates(gate=r\"H\",sect=sect,x=self.x_range[sect][0]+0.5+0.5*0.75),\n",
    "                                *parallelgates(gate=r\"Z\",sect=sect,x=self.x_range[sect][0]+2.+0.5*0.75),\n",
    "                                Create(pgate_1),\n",
    "                                *parallelgates(gate=r\"H\",sect=sect,x=self.x_range[sect][0]+5+0.5*0.75),\n",
    "                                Create(annot),runtime=3)\n",
    "\n",
    "\n",
    "        self.wait(2)\n",
    "\n",
    "        "
   ]
  },
  {
   "cell_type": "code",
   "execution_count": 81,
   "metadata": {},
   "outputs": [
    {
     "name": "stderr",
     "output_type": "stream",
     "text": [
      "                                                                            \r"
     ]
    },
    {
     "name": "stdout",
     "output_type": "stream",
     "text": [
      "[[-6.25, -5.75], [-5.75, -4.25], [-4.25, -1.75], None, None, None, None]\n"
     ]
    },
    {
     "name": "stderr",
     "output_type": "stream",
     "text": [
      "                                                                                      \r"
     ]
    },
    {
     "data": {
      "text/html": [
       "<video src=\"media\\jupyter\\Grover_3qbit@2022-01-15@21-31-02.mp4\" controls autoplay loop style=\"max-width: 60%;\"  >\n",
       "      Your browser does not support the <code>video</code> element.\n",
       "    </video>"
      ],
      "text/plain": [
       "<IPython.core.display.Video object>"
      ]
     },
     "metadata": {},
     "output_type": "display_data"
    }
   ],
   "source": [
    "%%manim -qm -v WARNING Grover_3qbit\n",
    "\n",
    "class Grover_3qbit(Scene):\n",
    "    config= {\n",
    "        \"x_lim\":int,    # define leftmost lowerlimit of x for circuit and gates\n",
    "        \"y_lim\":int,    # define up-most limit of y for circuit and gates\n",
    "        \n",
    "    }\n",
    "    def __init__(self, **kwargs):\n",
    "        super(Grover_3qbit, self).__init__()       #inheritance from class Scene\n",
    "        self.x_lim=-6.25\n",
    "        self.y_lim=-1.5\n",
    "        self.gap=1.5\n",
    "        self.n_qubit=3\n",
    "        self.sect=6\n",
    "        self.x_range=[None for i in range(self.sect+1)]\n",
    "        self.dots=[Dot() for i in range(self.n_qubit)]\n",
    "        self.circuitline=[[None for i in range(5)] for i in range(5)]   # List to hold all circuit line elements and VGroup  to include all the Mobjects of circuitline\n",
    "        self.circuit=VGroup()\n",
    "    def construct(self):\n",
    "        \n",
    "        # Algorithm name\n",
    "        algorithm=\"Grover's Algorithm\"\n",
    "        title = Title(algorithm,include_underline=False).set_y(3.1)     #title of the ALgorithm\n",
    "        self.add_foreground_mobject(title)\n",
    "\n",
    "        #section zero: create all registers: quantum and classical\n",
    "        # regs=[MathTex(r\"q_\"+str(i)) for i in range(n_qubit)] # create quantum register\n",
    "        \n",
    "        registers=VGroup()\n",
    "        regs=[MathTex(r\"q_\"+str(i)) for i in range(self.n_qubit)]\n",
    "        for i,reg in enumerate(regs):       #add registers to the scene\n",
    "            reg.set_x(self.x_lim).set_y(self.y_lim+(i)*self.gap)\n",
    "            registers.add(reg)\n",
    "        self.add(registers)\n",
    "\n",
    "        def create_gate(gate:str,x:int,y:int,control=None,scale=1,textcolor=WHITE,boxcolor=BLUE,fontsize=48,**kwargs):\n",
    "            if control:\n",
    "                gate_ = MathTex(gate,color=textcolor,font_size=fontsize).scale(scale+0.5).set_x(x).set_y(y)\n",
    "                gate_.bg = BackgroundRectangle(gate_,stroke_width=1,color=boxcolor, fill_opacity=1).scale(scale+1)\n",
    "                if type(control)==list:\n",
    "                    gate_block=VGroup()\n",
    "                    gate_block.add(gate_.bg,gate_)\n",
    "                    for i in range(len(control)):\n",
    "                        gate_block.add(Dot().set_x(x).set_y(control[i]))\n",
    "                        gate_block.add(Line([x,control[i],0], [x,y,0]))\n",
    "                    gate_block.add(gate_.bg,gate_)\n",
    "                    return gate_block\n",
    "                else:\n",
    "                    dot=Dot().set_x(x).set_y(control)\n",
    "                    control_line= Line([x,control,0], [x,y,0])\n",
    "                    return VGroup(control_line,gate_.bg,gate_,dot)\n",
    "            else:\n",
    "                gate_ = MathTex(gate,color=textcolor,font_size=fontsize).scale(scale+0.5).set_x(x).set_y(y)\n",
    "                gate_.bg = BackgroundRectangle(gate_,stroke_width=1,color=boxcolor, fill_opacity=1).scale(scale+1)\n",
    "                return VGroup(gate_.bg,gate_)\n",
    "        \n",
    "        def draw_circuitline(sect:int,xrange:list,barrier=True):\n",
    "            for i in range(self.n_qubit):\n",
    "                self.circuitline[sect][i]=Line([xrange[0],self.y_lim+i*self.gap,-0.5], [xrange[1],self.y_lim+i*self.gap,-0.5])\n",
    "                self.circuit.add(self.circuitline[sect][i])\n",
    "                self.add(self.circuitline[sect][i])\n",
    "            if barrier:\n",
    "                barrierline=DashedLine([xrange[1],self.y_lim-0.5,0], [xrange[1],self.y_lim+self.gap*(self.n_qubit-0.5),0],dashed_ratio=0.75).set_opacity(0.5)\n",
    "                self.add(barrierline)\n",
    "                # self.add(VGroup(circuit,barrierline))\n",
    "                # return VGroup(circuit,barrier)\n",
    "        def move_dot(sect: int,dots=self.dots):\n",
    "            animation=[]\n",
    "            for j in range(self.n_qubit):\n",
    "                animation.append(MoveAlongPath(dots[j], self.circuitline[sect][j]))\n",
    "            # self.play(*animation)\n",
    "            return animation\n",
    "        \n",
    "        def parallelgates(gate,x,sect:int,qubits=self.n_qubit,scale=1):\n",
    "            hgates=[]\n",
    "            for i in range(qubits):\n",
    "                hgate=create_gate(gate,x=x,y=self.y_lim+i*self.gap,control=None,scale=scale)\n",
    "                hgates.append(Create(hgate))\n",
    "            return hgates\n",
    "\n",
    "        \n",
    "        # Section I: Uniform Superposition\n",
    "        depth=sect=1\n",
    "        self.x_range[0]=[self.x_lim,self.x_lim+0.5+0.75*(depth-1)]\n",
    "        self.x_range[sect]=[self.x_range[sect-1][1],self.x_range[sect-1][1]+1+0.5*(depth)]\n",
    "        \n",
    "        draw_circuitline(sect,xrange=self.x_range[sect])\n",
    "        annot=MathTex(r\"INIT\").scale(0.75).set_x(self.x_range[sect][0]+1).set_y(self.y_lim-1)\n",
    "        self.play(*move_dot(1),*parallelgates(gate=r\"H\",sect=1,x=1.01*self.x_range[sect][0]+0.75,scale=0.75),Create(annot))\n",
    "\n",
    "        # # section II: Oracle function Controlled Phase rotation\n",
    "        sect=2\n",
    "        depth==0\n",
    "        self.x_range[sect]=[self.x_range[sect-1][1],self.x_range[sect-1][1]+2+0.5*(depth)]\n",
    "        pgate_1=create_gate(r\"Z\",x=self.x_range[sect][0]+(0.5+0.5)*0.75,y=self.y_lim+(2+0.01)*self.gap,\n",
    "                                        fontsize=48,control=self.y_lim-(0.0)*self.gap,scale=0.75)\n",
    "        pgate_2=create_gate(r\"Z\",x=self.x_range[sect][0]+(2+0.5)*0.75,y=self.y_lim+(2+0.01)*self.gap,\n",
    "                                        fontsize=48,control=self.y_lim+(1.001)*self.gap,scale=0.75)\n",
    "        draw_circuitline(sect,xrange=self.x_range[sect])\n",
    "        annot=MathTex(r\"Oracle\").scale(0.75).set_x(self.x_range[sect][0]+1).set_y(self.y_lim-1)\n",
    "        self.play(*move_dot(sect),Create(pgate_1), Create(pgate_2),Create(annot))\n",
    "        print(self.x_range) \n",
    "        # Section III: Reflection\n",
    "        sect=3\n",
    "        depth=5\n",
    "        self.x_range[sect]=[self.x_range[sect-1][1],self.x_range[sect-1][1]+1.5+1*(depth+1.25)]\n",
    "        pgate_1=create_gate(gate=r\"Z\",x=self.x_range[sect][0]+3.5+0.5*0.75,y=self.y_lim+2.001*self.gap,scale=0.75,\n",
    "                                        control=[self.y_lim-0*self.gap,self.y_lim+1.0*self.gap])\n",
    "        draw_circuitline(sect,xrange=self.x_range[sect],barrier=False)\n",
    "        annot=MathTex(\"Amplification \\; layer\").scale(0.75).set_x(sum(self.x_range[sect])/len(self.x_range[sect])).set_y(self.y_lim-1)\n",
    "        self.play(*move_dot(sect),*parallelgates(gate=r\"H\",sect=sect,x=self.x_range[sect][0]+0.5+0.5*0.75,scale=0.75),\n",
    "                                *parallelgates(gate=r\"X\",sect=sect,x=self.x_range[sect][0]+2.+0.5*0.75,scale=0.75),\n",
    "                                Create(pgate_1),\n",
    "                                *parallelgates(gate=r\"X\",sect=sect,x=self.x_range[sect][0]+5.+0.5*0.75,scale=0.75),\n",
    "                                *parallelgates(gate=r\"H\",sect=sect,x=self.x_range[sect][0]+6.5+0.5*0.75,scale=0.75),\n",
    "                                Create(annot),runtime=3)\n",
    "\n",
    "\n",
    "        self.wait(2)\n",
    "\n",
    "        "
   ]
  },
  {
   "cell_type": "code",
   "execution_count": 29,
   "metadata": {},
   "outputs": [
    {
     "name": "stdout",
     "output_type": "stream",
     "text": [
      "[1, 2, 6]\n"
     ]
    }
   ],
   "source": [
    "dots=[1,2,6]\n",
    "def test(dots):\n",
    "    return [dots[i] for i in range(len(dots))]\n",
    "print(test(dots))"
   ]
  },
  {
   "cell_type": "code",
   "execution_count": 35,
   "metadata": {},
   "outputs": [
    {
     "data": {
      "text/plain": [
       "True"
      ]
     },
     "execution_count": 35,
     "metadata": {},
     "output_type": "execute_result"
    }
   ],
   "source": [
    "type(dots)==list"
   ]
  },
  {
   "cell_type": "code",
   "execution_count": null,
   "metadata": {},
   "outputs": [],
   "source": []
  }
 ],
 "metadata": {
  "interpreter": {
   "hash": "a707b6ce8c685eb936424fcc3009d4b4b7a52543c4db09380a3fc49186ceb509"
  },
  "kernelspec": {
   "display_name": "Python 3.9.7 64-bit ('base': conda)",
   "language": "python",
   "name": "python3"
  },
  "language_info": {
   "codemirror_mode": {
    "name": "ipython",
    "version": 3
   },
   "file_extension": ".py",
   "mimetype": "text/x-python",
   "name": "python",
   "nbconvert_exporter": "python",
   "pygments_lexer": "ipython3",
   "version": "3.9.7"
  },
  "orig_nbformat": 4
 },
 "nbformat": 4,
 "nbformat_minor": 2
}
